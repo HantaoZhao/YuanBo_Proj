{
 "cells": [
  {
   "cell_type": "code",
   "execution_count": 3,
   "metadata": {},
   "outputs": [],
   "source": [
    "if __name__ == '__main__':\n",
    "    import pymongo\n",
    "    import pandas as pd\n",
    "    import numpy as np\n",
    "    import os\n",
    "    import datetime\n",
    "    import sys \n",
    "    import csv\n",
    "    from sklearn import svm\n",
    "\n",
    "\n",
    "    filename = \"data.csv\"\n",
    "    \n",
    "    df = pd.read_csv(filename)"
   ]
  },
  {
   "cell_type": "code",
   "execution_count": 4,
   "metadata": {},
   "outputs": [
    {
     "data": {
      "text/plain": [
       "Index(['indicator1', 'indicator2', 'indicator3', 'indicator4', 'indicator5',\n",
       "       'indicator6', 'indicator7', 'indicator8', 'indicator9', 'indicator10',\n",
       "       ...\n",
       "       'AskVolume2', 'AskVolume1', 'BidVolume1', 'BidVolume2', 'BidVolume3',\n",
       "       'BidVolume4', 'BidVolume5', 'OpenInterest', 'UpperLimitPrice',\n",
       "       'LowerLimitPrice'],\n",
       "      dtype='object', length=139)"
      ]
     },
     "execution_count": 4,
     "metadata": {},
     "output_type": "execute_result"
    }
   ],
   "source": [
    "    list_cols = (df.columns)\n",
    "    list_cols"
   ]
  },
  {
   "cell_type": "code",
   "execution_count": 8,
   "metadata": {},
   "outputs": [],
   "source": [
    "    midp = df.loc[:,'midPrice']\n",
    "    midp\n",
    "    midp.to_csv('midPrice.csv')\n",
    "    \n",
    "    "
   ]
  },
  {
   "cell_type": "code",
   "execution_count": 21,
   "metadata": {},
   "outputs": [],
   "source": [
    "    ind = 0\n",
    "    n = 1\n",
    "    L = []\n",
    "    ind_l = []\n",
    "    for i in midp:\n",
    "        if ind < n:\n",
    "            old = i\n",
    "            ind += 1\n",
    "            continue\n",
    "        ind_l.append(ind)\n",
    "        l = i - old\n",
    "        old = i\n",
    "        L.append(l)\n",
    "        ind += 1"
   ]
  },
  {
   "cell_type": "code",
   "execution_count": 22,
   "metadata": {
    "scrolled": true
   },
   "outputs": [
    {
     "data": {
      "image/png": "[encoded data removed]",
      "text/plain": [
       "<Figure size 432x288 with 1 Axes>"
      ]
     },
     "metadata": {},
     "output_type": "display_data"
    }
   ],
   "source": [
    "    import matplotlib.pyplot as plt\n",
    "    plt.plot(ind_l, L, 'b-')\n",
    "    plt.title('der per step')\n",
    "    plt.xlabel('step')\n",
    "    plt.ylabel('der')\n",
    "    plt.show()"
   ]
  },
  {
   "cell_type": "code",
   "execution_count": 23,
   "metadata": {},
   "outputs": [],
   "source": [
    "    dfL = pd.DataFrame(L)\n",
    "    dfL.to_csv('dfL.csv')"
   ]
  },
  {
   "cell_type": "code",
   "execution_count": 24,
   "metadata": {},
   "outputs": [
    {
     "data": {
      "text/plain": [
       "(0.0, 1721490.0)"
      ]
     },
     "execution_count": 24,
     "metadata": {},
     "output_type": "execute_result"
    },
    {
     "data": {
      "image/png": "[encoded data removed]",
      "text/plain": [
       "<Figure size 432x288 with 1 Axes>"
      ]
     },
     "metadata": {},
     "output_type": "display_data"
    }
   ],
   "source": [
    "    n, bins, patches = plt.hist(x=L, bins='auto', color='#0504aa',\n",
    "                            alpha=0.7, rwidth=0.85)\n",
    "    plt.grid(axis='y', alpha=0.75)\n",
    "    plt.xlabel('Value')\n",
    "    plt.ylabel('Frequency')\n",
    "    plt.text(23, 45, r'$\\mu=15, b=3$')\n",
    "    maxfreq = n.max()\n",
    "    # 设置y轴的上限\n",
    "    plt.ylim(ymax=np.ceil(maxfreq / 10) * 10 if maxfreq % 10 else maxfreq + 10)"
   ]
  },
  {
   "cell_type": "code",
   "execution_count": 25,
   "metadata": {},
   "outputs": [
    {
     "data": {
      "text/plain": [
       "1721576"
      ]
     },
     "execution_count": 25,
     "metadata": {},
     "output_type": "execute_result"
    }
   ],
   "source": [
    "    dfL.value_counts()"
   ]
  }
 ],
 "metadata": {
  "kernelspec": {
   "display_name": "Python 3",
   "language": "python",
   "name": "python3"
  },
  "language_info": {
   "codemirror_mode": {
    "name": "ipython",
    "version": 3
   },
   "file_extension": ".py",
   "mimetype": "text/x-python",
   "name": "python",
   "nbconvert_exporter": "python",
   "pygments_lexer": "ipython3",
   "version": "3.6.5"
  }
 },
 "nbformat": 4,
 "nbformat_minor": 2
}
